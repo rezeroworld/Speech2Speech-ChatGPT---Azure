{
 "cells": [
  {
   "cell_type": "code",
   "execution_count": 1,
   "metadata": {},
   "outputs": [],
   "source": [
    "import docx\n",
    "import numpy as np\n",
    "import pandas as pd\n",
    "import unicodedata"
   ]
  },
  {
   "cell_type": "code",
   "execution_count": 2,
   "metadata": {},
   "outputs": [],
   "source": [
    "def index(array_, str_):\n",
    "    bool_ = [array_elt == str_ for array_elt in array_]\n",
    "    return np.flatnonzero(bool_)"
   ]
  },
  {
   "cell_type": "code",
   "execution_count": 3,
   "metadata": {},
   "outputs": [],
   "source": [
    "def get_text(filename):\n",
    "    doc = docx.Document(filename)\n",
    "    paragraphs = []\n",
    "    for para in doc.paragraphs:\n",
    "        if para.text.strip(' \\n') != '':\n",
    "            paragraphs.append(unicodedata.normalize('NFKD', para.text).strip(' \\n'))\n",
    "    return np.array(paragraphs)\n",
    "\n",
    "document = get_text('Alpha Dentistry vol. 1- Digital Orthodontics INTERNATIONAL (Online Edition).docx')\n",
    "#document_list = list(document)"
   ]
  },
  {
   "cell_type": "code",
   "execution_count": 4,
   "metadata": {},
   "outputs": [],
   "source": [
    "# some errors I found\n",
    "# normally it is a single word\n",
    "document[index(document, \"8.8 - TROUBLE SHOOTING\")] = \"8.8 - TROUBLESHOOTING\"\n",
    "# it is a question so it should end with '?'\n",
    "document[index(document, 'ALIGNERS, WHAT ARE THOSE')] = 'ALIGNERS, WHAT ARE THOSE?'"
   ]
  },
  {
   "cell_type": "code",
   "execution_count": 5,
   "metadata": {},
   "outputs": [],
   "source": [
    "def get_chapter_from_document(num_chapter, end_paragraph):\n",
    "    chapter = {}\n",
    "    chapter['definitions'] = index(document, f'{num_chapter}.1 - DEFINITIONS')[0]\n",
    "    chapter['expectations'] = index(document, f'{num_chapter}.2 - EXPECTATIONS')[0]\n",
    "    chapter['time'] = index(document, f'{num_chapter}.3 - TIME')[0]\n",
    "    chapter['retention'] = index(document, f'{num_chapter}.4 - RETENTION')[0]\n",
    "    chapter['dental work'] = index(document, f'{num_chapter}.5 - DENTAL WORK')[0]\n",
    "    chapter['comfort/pain'] = index(document, f'{num_chapter}.6 - COMFORT/PAIN')[0]\n",
    "    chapter['money'] = index(document, f'{num_chapter}.7 - MONEY')[0]\n",
    "    chapter['troubleshooting'] = index(document, f'{num_chapter}.8 - TROUBLESHOOTING')[0]\n",
    "    chapter['end'] = index(document, end_paragraph)[0] + 1\n",
    "    return chapter\n",
    "\n",
    "end_paragraphs = ['Now, about smoking, within 17 years plus of experience, I had people smoking with their aligners in. What I can tell you is that their aligners did not stay invisible for long. They turn brownish pretty quickly. Smoking is bad, that you know. Well, I cannot promise this, but I had patients who quit smoking after seeing how quickly the nicotine-stained their aligners. Again, this is a side effect and is not even part of the treatment. I just like to share the story about stains and the life-changing effect on a few individuals.',\n",
    "                  'Smoking will stain aligners and chewing gum sticks to aligners, neither recommended.',\n",
    "                  \"We never recommend smoking, either with or without aligners. If you're a smoker, you already know the causes and the potential harm of smoking. That said, you can smoke with the aligners in place. You may get some tobacco deposit on the aligners but again, you're changing them after 2 weeks. So not a big deal. Chewing gum, on the other hand, you'll learn right away as well. Chewing gum will stick to your aligners and it is pretty hard to get them off. It is not worth it. It can be pretty embarrassing to have to call the dental office and ask for a replacement because you chewed gum and now, you can’t get it off. With the time and fees involved, you'll learn quickly not to chew gum with the aligners in your mouth.\",\n",
    "                  \"You should not be smoking, period. Smoking is not good for you, and it will also stain the plastic of the aligners. About chewing gum, you may end up breaking your aligners. On the other hand, some cases require you to chew on a chewee to help the fitting of your aligners. That will be for your dentist to prescribe if needed. Everything in moderation is good. Don't do something which will take you away from what you're trying to achieve.\",\n",
    "                  \"No. I always say that one great reason for you have aligners therapy is that it is a very good way for you to stop smoking. Having to remove your aligners each time, you will start reducing the number of times your will smoke gradually. That said, if you smoke, you shouldn't wear the aligners while smoking because you will stain them pretty quickly and they won’t be clear and invisible anymore.\",\n",
    "                  \"I don't recommend smoking, not only for the nicotine stain but because it's bad for the tissues and healing. You don't heal when you have nicotine in your body.\",\n",
    "                  \"You can chew gum with them. There's no problem. About smoking, you shouldn’t smoke, period. That’s for your health. That said, if you smoke with your trays on, you might turn them dark and brownish very quickly. That might be an aesthetic problem for the next 2 weeks as you are keeping the same aligners.\",\n",
    "                  \"Smoking, it's the same with the coffee or tea, it will turn the clear aligner yellowish, even brownish. That will go against the invisible treatment goal. About chewing gum, sugarless gum, some of my colleagues will say that chewing gum will help the treatment since you are forcing the teeth inside of the aligners. Personally, I am not advising my patients to chew gums with their aligners.\",\n",
    "                  \"No, you should not smoke, period. You should not smoke or chew gum with your aligner on. Smoking is bad for the health and it will also darken your clear aligners very quickly. Well, chewing gum, you could potentially damage your aligners.\",\n",
    "                  \"In general, I would say to avoid smoking because smoking has been linked to gingivitis and other periodontal problems. Sometimes it is challenging for some patients to keep good oral hygiene while wearing aligners, and the accumulation of plaque will eventually lead to gingivitis. If you combine the two added risks, you are at a higher risk of developing gum disease. I would not recommend smoking, period. In regards to chewing gum, I do not think one is able to chew gum while wearing aligners. You can try, but you will have no satisfaction out of it. Just try and you will see.\",\n",
    "                  ]\n",
    "\n",
    "chapters_idx = []\n",
    "for i in range(1, 10):\n",
    "    chapters_idx.append(get_chapter_from_document(i, end_paragraphs[i]))"
   ]
  },
  {
   "cell_type": "code",
   "execution_count": 6,
   "metadata": {},
   "outputs": [
    {
     "data": {
      "text/plain": [
       "[{'definitions': 198,\n",
       "  'expectations': 236,\n",
       "  'time': 284,\n",
       "  'retention': 308,\n",
       "  'dental work': 341,\n",
       "  'comfort/pain': 356,\n",
       "  'money': 376,\n",
       "  'troubleshooting': 391,\n",
       "  'end': 613},\n",
       " {'definitions': 452,\n",
       "  'expectations': 488,\n",
       "  'time': 522,\n",
       "  'retention': 536,\n",
       "  'dental work': 556,\n",
       "  'comfort/pain': 569,\n",
       "  'money': 581,\n",
       "  'troubleshooting': 591,\n",
       "  'end': 787},\n",
       " {'definitions': 638,\n",
       "  'expectations': 676,\n",
       "  'time': 702,\n",
       "  'retention': 716,\n",
       "  'dental work': 731,\n",
       "  'comfort/pain': 743,\n",
       "  'money': 755,\n",
       "  'troubleshooting': 765,\n",
       "  'end': 937},\n",
       " {'definitions': 805,\n",
       "  'expectations': 836,\n",
       "  'time': 859,\n",
       "  'retention': 871,\n",
       "  'dental work': 883,\n",
       "  'comfort/pain': 893,\n",
       "  'money': 905,\n",
       "  'troubleshooting': 915,\n",
       "  'end': 1106},\n",
       " {'definitions': 963,\n",
       "  'expectations': 997,\n",
       "  'time': 1021,\n",
       "  'retention': 1033,\n",
       "  'dental work': 1049,\n",
       "  'comfort/pain': 1062,\n",
       "  'money': 1074,\n",
       "  'troubleshooting': 1084,\n",
       "  'end': 1291},\n",
       " {'definitions': 1132,\n",
       "  'expectations': 1173,\n",
       "  'time': 1198,\n",
       "  'retention': 1210,\n",
       "  'dental work': 1231,\n",
       "  'comfort/pain': 1245,\n",
       "  'money': 1258,\n",
       "  'troubleshooting': 1268,\n",
       "  'end': 1468},\n",
       " {'definitions': 1313,\n",
       "  'expectations': 1352,\n",
       "  'time': 1382,\n",
       "  'retention': 1396,\n",
       "  'dental work': 1410,\n",
       "  'comfort/pain': 1418,\n",
       "  'money': 1430,\n",
       "  'troubleshooting': 1442,\n",
       "  'end': 1640},\n",
       " {'definitions': 1488,\n",
       "  'expectations': 1530,\n",
       "  'time': 1558,\n",
       "  'retention': 1568,\n",
       "  'dental work': 1584,\n",
       "  'comfort/pain': 1596,\n",
       "  'money': 1608,\n",
       "  'troubleshooting': 1618,\n",
       "  'end': 1799},\n",
       " {'definitions': 1665,\n",
       "  'expectations': 1697,\n",
       "  'time': 1719,\n",
       "  'retention': 1729,\n",
       "  'dental work': 1749,\n",
       "  'comfort/pain': 1757,\n",
       "  'money': 1769,\n",
       "  'troubleshooting': 1779,\n",
       "  'end': 1953}]"
      ]
     },
     "execution_count": 6,
     "metadata": {},
     "output_type": "execute_result"
    }
   ],
   "source": [
    "chapters_idx"
   ]
  },
  {
   "cell_type": "code",
   "execution_count": 7,
   "metadata": {},
   "outputs": [
    {
     "data": {
      "text/plain": [
       "{'ALIGNERS, WHAT ARE THOSE? chapter 1': 'Before, to straighten the teeth, we used brackets and wires. So mainly we installed brackets on your teeth and, with wires with elastic memory, the wire will slowly bend back to its original shape, which is a U shape. The U shape is often the desired shape of the mouth. Since 1997, we now have a better way to straighten teeth without the use of brackets and wire. We now leverage the digitalization of the mouth to straighten the smile, tooth by tooth. It is possible by creating a sequence of clear plastic moulds that will guide the movement of the crooked teeth into their desired positions. Moving from one aligner to the next, we can now successfully reshape the mouth and most smiles without metal brackets or wires. Except for the cases that required orthognathic surgery, most cases today can be addressed with the new digital orthodontics, which the leading brand is Invisalign.',\n",
       " 'WHAT ARE THE ALIGNERS MADE OF? WHAT IS THE MATERIAL? DOES IT CONTAIN BPA? chapter 1': \"To tell you the truth. I don't know the exact composition of the material. Invisalign SmartTrack aligners are made of medical-grade nontoxic and reliable plastic. The exact components are protected by patterns.  Over the last 20 years, they have improved much on the plastic itself, making it smarter and smarter and reactive. What I can tell you, is that it is working and working consistently pretty well.\",\n",
       " 'IS IT SAFE? chapter 1': 'Yes, the clear aligners made by aligned tech are medical grade plastic reliable, safe and FDA approved. Personally, I’ve been creating beautiful smiles and changing lives using this technology for more than 17 years by now, with outstanding and consistent results.',\n",
       " 'IS IT FDA APPROVED? chapter 1': 'Yes, the leading brand in clear orthodontics, Invisalign, is FDA approved and made of medical-grade plastic.',\n",
       " 'HOW MANY PEOPLE HAVE USED IT BEFORE ME? chapter 1': 'Invisalign, as the leading brand, has successfully treated more than 11 million smiles, by the time of this writing, all around the world since 1997.',\n",
       " 'HOW OLD ARE THE COMPANY AND ITS TECHNOLOGY? chapter 1': 'The idea of making sequential moulds to straighten teeth isn’t a new concept. It has its origins as far as the beginning of the 20th century. The technological innovation of the leading brand, Invisalign, is the use of computers and 3D models to plan for the treatments and to print out the trays. The pioneer company Align Tech has been around since 1997.',\n",
       " 'HOW EFFICIENT ARE THE CLEAR ALIGNERS? chapter 1': \"With more than 17 years of experience working with this technology, I can tell you with insurance that most cases that are not working, are often due to a lack of patients compliance, (trays should be worn 20 hours+ a day), orthognathic surgical cases,  and very severe rotations and alignment set aside. Just like in everything, you still need a precise diagnosis and a great attending to plan and supervise the case. But once confirmed possible and under capable hands, the main reason for failure is patients' compliance. To know which cases are treatable with clear aligners, an exam by your attending dentist is required.\",\n",
       " 'HOW DOES IT WORK? HOW DOES IT STRAIGHTEN MY TEETH? chapter 1': \"You start with a 3D scan as a digital impression of your mouth. An older technic is to scan a conventional dental impression. That practice is less and less used since the 3D scan is much more reliable and precise.  From that scan, a 3D model of your mouth is made. The doctors and the dental technicians are moving your digital teeth and reshaping your mouth from that 3D model. So all of the planning happened outside of your mouth, while you are not even there. Placing your teeth one by one and carefully considering the inter-relationship of your teeth through every single phase of treatment, a treatment plan is then generated. The blueprint is called a clincheck, with the leading brand, Invisalign. Then it is custom to meet with the patients and show them the simulated virtual treatment on a computer screen prior to the beginning of the actual treatment. Once approved by all parties, a sequence of clear aligners are then 3D printed and shipped to the attending dentist's office for the beginning of the process.\\nChanging from one aligner to the next (usually worn between 7 to 14 days on average), you are executing the treatment plan, a single mould at a time, moving your teeth from A to B to, eventually Z. The mechanics and biology behind the treatment are the mechanism of bone formation and bone resorption. Under pressure, the body will produce hormones to resorb (destroy) the bone until the pressure is released. After that initial hormonal reaction, your body will then start the bone formation process where it detects tension. Within 2 different phases, the body is remoulding itself around the new teeth position within the aligners. In other words, we are using the tooth as leverage to reshape in 2 steps the bone socket, changing slowly the axis of emergence of the tooth. This is how both conventional braces and the new clear aligners are aligning teeth.\\nThe use of plastic aligners or metal brackets and wires is a decision between the attending and his or her patient. The physiology and mechanics are the same. But the clear aligners still have an edge, which is to apply the maximum force on the teeth without the body responding by an equal and opposite force.  No matter the choice of appliances, the body will need the time to regenerate the bone around the teeth, making a minimum of wearing time mandatory. It is also important to understand that this is a hormonal response. Hormonal responses are all-or-nothing reactions. So either your body is creating bone or either it is destroying it. The cycles will follow one after the next, making it mandatory to give your body enough time to go through both sequences.\",\n",
       " 'MY DOCTOR MENTIONED \"ATTACHMENTS.\" WHAT ARE THEY AND WHY WOULD I NEED THEM FOR MY ORTHODONTIC TREATMENT? chapter 1': 'Please keep in mind that this is an orthodontic process to mould bone and replace metal brackets. To maximize and even sometimes, to make a movement possible, we need maximum control over that tooth. An attachment is like a handle temporarily glued on the tooth to increase the movement and its precision. Without attachment, we are losing part of the precision and force of movement, making the treatment either longer or even inefficient. This is often not an option open for debate. As a general rule, attachments can not only move teeth, but they can also optimize the movement within each aligner, making the whole process quicker than without attachments.\\nWhile in treatment, patients will pull against these attachments and some will fall. Don\\'t beat yourself up for that. If the teeth are still within the \"track\" of the movement, you can still move forward. The impression of that tooth will be addressed during your refinement process, as your mouth will be scanned again for refinement. Attachments are present in most clear aligners treatment plans, especially in hard cases and severe crowding. I like to remove the attachments at the end of the first set of aligners after I have accomplished the biggest dental movements. By then, I would have accomplished 80 to 90% of my results. After that, I prefer to give my patient more comfort and confidence and avoid installing new attachments. It is not always possible, but when it is, it is greatly appreciated by the patient.\\nI do so because I keep in mind that 50% of my success is dental-based. I still need the cooperation of the patient for the other 50%. Where it is possible to give them more freedom and comfort, I will do so, knowing that after the first half of the treatment and when the teeth are about straight, your patient is often less compliant to wear his or her aligners as much. By helping them, I am helping my cause for compliance. With experience, not listening at all to the concern of my patients, I am setting myself up for failure. Compliance and psychology are the main components of modern orthodontics. An attachment is made of composite, the same white filling material used to repair dental cavities. It can be colour-matched to the teeth and can be removed pretty easily without leaving any trace on that tooth once due for removal.',\n",
       " \"WHO CAN HAVE ALIGNERS? HOW DO YOU KNOW IF YOU'RE THE RIGHT CANDIDATE? chapter 1\": 'The only way to know for sure is to consult a certified provider. Once your attending dentist has asserted the case in an initial consultation, you will have answers to your 3 primary questions: Possible or not, how long, and how much?',\n",
       " 'AT WHAT AGE CAN I START WITH ALIGNERS? chapter 1': \"Usually, you want to start aligning your teeth once all the adult teeth have erupted. Usually, that's between 11 and 13 years old. There is no upper limit of age to align your teeth using digital orthodontics. Patients as young as 80 years old have successfully corrected their crowding and gained a new smile. The reason why we are only starting to realign teeth once the adult teeth are present is that digital orthodontics is about moving teeth, not bones. When you hear that you have to catch a malocclusion at a young age, we are talking about bone alignment. That's orthopedic, the movement of bones. That is addressed from the age of 6 and above with orthopedic appliances, appliances influencing and guiding the growth of the bones of your face.\\nOnce puberty is reached and most of the adult teeth are already in the mouth, it is now a matter of managing the space inside the mouth to fit in and align the smile, unless the case required jaw surgery, which is, once more, an orthopedic issue. So, in short answer, you can start aligning your teeth with aligners once your adult teeth are in. There is no such thing that you are too old to align your teeth using this technology, for as long as you are healthy and, of course, you have the see to do so.\",\n",
       " 'WHAT ARE THE DIFFERENCES BETWEEN TRADITIONAL BRACES AND ALIGNERS? chapter 1': 'Exactly what you think! One is in metal and one is in clear plastic. Usually, metal braces for the exact same case will be more affordable. At a younger age, attending doctors will prefer braces to aligners because they keep full control of the case, not relying as much on the cooperation of the patient. Now, they are both efficient, aligners and braces. If you need a comparison, think of a convertible and an S.U.V. The convertible is sexy and very desirable on city streets. In the mountains, you will prefer your 4x4 S.U.V. Well, the aligners are that convertible and the braces are the S.U.V. The city streets and the mountains are the difficulty level of your case. I can never say that enough, each case is unique and the only way to know what is the difficulty level, in other words, the complexity of your case is from a consultation with a qualified doctor.\\nIn North America and Europe, more and more adults are looking to straighten their teeth or to re-straighten their teeth with aligners. In some countries, it is still a symbol of wealth to have braces in the mouth. That is a cultural issue. If not for medical reasons, both are effective treatments if applied to the right cases. Another general rule, parents and attending doctors will prefer braces for children and young teenagers because of compliance issues and, most of the time, because of the cost, braces are usually cheaper than aligners. You can be surprised by how educated our children are. They are making their research on the web. I had kids of 12 years old in front of me defending their case to have aligners instead of braces. Once again, if it is about moving teeth, both alternatives are possible. If it is a bone issue, usually, braces and orthognathic surgery will be the correct answer. Only a qualified dentist can clearly answer that question.',\n",
       " 'HOW DO I  KNOW IF I  QUALIFY FOR ALIGNERS? chapter 1': \"The right and short answer to that one is to consult a qualified dentist or orthodontist. If your case is about moving teeth alone, both aligners and braces can do. If the issue is more about bones and the alignment of your jaw, that's orthopedic and the solutions are jaw surgery and braces. As a general rule, braces are more powerful as a tool. I like to compare them to an S.U.V. versus a convertible. You've guessed right, the aligner is that convertible. The difference is the kind of road you are using them on. Off-road, you want your S.U.V. a.k.a, braces. On city streets, you like the sex appeal of a convertible, a.k.a, aligners. The only way to know what your case is is to consult a qualified doctor.  Unfortunately, looking in the mirror and looking on the internet alone will not be enough to have an idea of your treatment plan or your time of treatment. The best example that comes to my mind, are these cases with only 1 tooth out of place. I've seen so many patients coming in consultation thinking that if we have made magic aligning all the teeth of their friends, aligning 1 single tooth should be a walk in the park. In other words, it should not take too long. Very wrong!\\nHow do you think that I can align your smile if 1 single tooth is out of place? I will have to move all the rest of the teeth you qualify as straight and realign your smile keeping the face symmetry and the function of your mouth. If you look good today, except for a tooth, and you want to look better, well, I will have to change the complete dynamic and balance of your mouth to give you a new balance, one you want to see. In short, your treatment is as long as that friend of yours which I have changed his or her life, only now, in your case, I will have to show you the logic of treatment first. What will determine a time treatment is the teeth movement, not how many teeth are out of place. To a patient with many, many teeth misaligned, the treatment is possible and the moral is often positive. With a patient with only 1 tooth out of place, it might be the same treatment, the same time frame, but now, the moral will be much of a challenge.\",\n",
       " 'WHY DO WE HAVE TO DO CLEANING EVERY 3 MONTHS WHEN WEARING ALIGNERS? chapter 1': \"The answer is straightforward, you do not want any complications while in treatment. It is a matter of health and also one of finance to keep the cost under control. The rule is the same as with braces. We need you to keep your mouth clean to avoid cavities, gum diseases, and any other complications that might slow down or even stall the orthodontics process. The rule of 3 to 4 months is based on the fact that it usually takes 3 to 4 months for calculus and decays to appear in the mouth. If those are prevented and removed before needing treatment, the same aligners custom-made to your teeth can be used to continue your treatment. In the advent that you might need dental work, chances are that your teeth will be repaired and won't match the same custom-made aligners. In that case, you will need a new scan and the production of new custom-made aligners, thus engaging extra fees for both the dental work and the new aligners.\\nHaving your teeth cleaned every 3 to 4 months will still require you to also floss and brush your teeth after each meal. You were supposed to brush your teeth 3 times a day and floss, at least once, before going to bed. Guess what? Now you really have to do so. On top of flossing, if you feel food stuck in between your teeth during the day, you need to clean that too. See it this way, it is much cheaper and faster for your to brush, floss, and see your dentist for a cleaning 3 times a year than to pay for the complications of dental work and custom-made aligners.\"}"
      ]
     },
     "execution_count": 7,
     "metadata": {},
     "output_type": "execute_result"
    }
   ],
   "source": [
    "def get_questions_and_answers_from_section(section_idx_start, section_idx_end, chapter_idx):\n",
    "    section = document[section_idx_start:section_idx_end]\n",
    "    questions_bool = np.array([(elt[-1] == '?' and elt.isupper()) for elt in section])\n",
    "    questions_args = np.flatnonzero(questions_bool)\n",
    "    questions = section[questions_args]\n",
    "    for i in range(len(questions)):\n",
    "        questions[i] += \" chapter \" + str(chapter_idx)\n",
    "    answers = ['\\n'.join(section[np.arange(questions_args[i-1]+1, questions_args[i])]) for i in range(1, len(questions_args))]\n",
    "    # answer of the last question\n",
    "    answers.append('\\n'.join(section[np.arange(questions_args[-1]+1, len(section))]))\n",
    "    qst_to_ans = dict(zip(questions, answers))\n",
    "    return qst_to_ans\n",
    "\n",
    "get_questions_and_answers_from_section(chapters_idx[0]['definitions'], chapters_idx[0]['expectations'], 1)"
   ]
  },
  {
   "cell_type": "code",
   "execution_count": 8,
   "metadata": {},
   "outputs": [],
   "source": [
    "def get_questions_and_answers_from_document():\n",
    "    sections_names = ['definitions', 'expectations', 'time', 'retention', 'dental work', 'comfort/pain', 'money', 'troubleshooting', 'end']\n",
    "    questions_and_answers = {}\n",
    "    for i in range(1, 11):\n",
    "        chapter_idxs = get_chapter_from_document(i, end_paragraphs[i-1])\n",
    "        for j in range(1, len(sections_names)):\n",
    "            q2a = get_questions_and_answers_from_section(chapter_idxs[sections_names[j-1]], chapter_idxs[sections_names[j]], i)\n",
    "            questions_and_answers.update(q2a)\n",
    "    return questions_and_answers\n",
    "\n",
    "questions_answers_dict = get_questions_and_answers_from_document()"
   ]
  },
  {
   "cell_type": "code",
   "execution_count": 9,
   "metadata": {},
   "outputs": [
    {
     "data": {
      "text/plain": [
       "315"
      ]
     },
     "execution_count": 9,
     "metadata": {},
     "output_type": "execute_result"
    }
   ],
   "source": [
    "np.argmax([len(elt) for elt in questions_answers_dict.values()])"
   ]
  },
  {
   "cell_type": "code",
   "execution_count": 10,
   "metadata": {},
   "outputs": [
    {
     "data": {
      "text/plain": [
       "('HOW EFFICIENT ARE THE CLEAR ALIGNERS? chapter 6', 3958)"
      ]
     },
     "execution_count": 10,
     "metadata": {},
     "output_type": "execute_result"
    }
   ],
   "source": [
    "list(questions_answers_dict.keys())[315], len(list(questions_answers_dict.values())[315])"
   ]
  },
  {
   "cell_type": "code",
   "execution_count": 11,
   "metadata": {},
   "outputs": [
    {
     "data": {
      "text/html": [
       "<div>\n",
       "<style scoped>\n",
       "    .dataframe tbody tr th:only-of-type {\n",
       "        vertical-align: middle;\n",
       "    }\n",
       "\n",
       "    .dataframe tbody tr th {\n",
       "        vertical-align: top;\n",
       "    }\n",
       "\n",
       "    .dataframe thead th {\n",
       "        text-align: right;\n",
       "    }\n",
       "</style>\n",
       "<table border=\"1\" class=\"dataframe\">\n",
       "  <thead>\n",
       "    <tr style=\"text-align: right;\">\n",
       "      <th></th>\n",
       "      <th>answers</th>\n",
       "    </tr>\n",
       "  </thead>\n",
       "  <tbody>\n",
       "    <tr>\n",
       "      <th>ALIGNERS, WHAT ARE THOSE? chapter 1</th>\n",
       "      <td>Before, to straighten the teeth, we used brack...</td>\n",
       "    </tr>\n",
       "    <tr>\n",
       "      <th>WHAT ARE THE ALIGNERS MADE OF? WHAT IS THE MATERIAL? DOES IT CONTAIN BPA? chapter 1</th>\n",
       "      <td>To tell you the truth. I don't know the exact ...</td>\n",
       "    </tr>\n",
       "    <tr>\n",
       "      <th>IS IT SAFE? chapter 1</th>\n",
       "      <td>Yes, the clear aligners made by aligned tech a...</td>\n",
       "    </tr>\n",
       "    <tr>\n",
       "      <th>IS IT FDA APPROVED? chapter 1</th>\n",
       "      <td>Yes, the leading brand in clear orthodontics, ...</td>\n",
       "    </tr>\n",
       "    <tr>\n",
       "      <th>HOW MANY PEOPLE HAVE USED IT BEFORE ME? chapter 1</th>\n",
       "      <td>Invisalign, as the leading brand, has successf...</td>\n",
       "    </tr>\n",
       "  </tbody>\n",
       "</table>\n",
       "</div>"
      ],
      "text/plain": [
       "                                                                                              answers\n",
       "ALIGNERS, WHAT ARE THOSE? chapter 1                 Before, to straighten the teeth, we used brack...\n",
       "WHAT ARE THE ALIGNERS MADE OF? WHAT IS THE MATE...  To tell you the truth. I don't know the exact ...\n",
       "IS IT SAFE? chapter 1                               Yes, the clear aligners made by aligned tech a...\n",
       "IS IT FDA APPROVED? chapter 1                       Yes, the leading brand in clear orthodontics, ...\n",
       "HOW MANY PEOPLE HAVE USED IT BEFORE ME? chapter 1   Invisalign, as the leading brand, has successf..."
      ]
     },
     "execution_count": 11,
     "metadata": {},
     "output_type": "execute_result"
    }
   ],
   "source": [
    "df = pd.DataFrame.from_dict(questions_answers_dict, orient='index', columns=[\"answers\"])\n",
    "df.head()"
   ]
  },
  {
   "cell_type": "code",
   "execution_count": 12,
   "metadata": {},
   "outputs": [],
   "source": [
    "import openai\n",
    "import os\n",
    "import time\n",
    "import tiktoken"
   ]
  },
  {
   "cell_type": "code",
   "execution_count": 13,
   "metadata": {},
   "outputs": [],
   "source": [
    "COMPLETIONS_MODEL = \"text-davinci-003\"\n",
    "EMBEDDING_MODEL = \"text-embedding-ada-002\"\n",
    "openai.api_key = os.getenv(\"OPENAI_API_KEY\")\n"
   ]
  },
  {
   "cell_type": "code",
   "execution_count": 14,
   "metadata": {},
   "outputs": [
    {
     "data": {
      "text/plain": [
       "'A dental aligner is a type of orthodontic appliance used to straighten teeth. It is a clear, removable tray that fits over the teeth and is designed to gradually move the teeth into the desired position. Aligners are typically used to treat mild to moderate misalignment and are an alternative to traditional metal braces.'"
      ]
     },
     "execution_count": 14,
     "metadata": {},
     "output_type": "execute_result"
    }
   ],
   "source": [
    "prompt = \"What is a dental aligner?\"\n",
    "\n",
    "openai.Completion.create(\n",
    "    prompt=prompt,\n",
    "    temperature=0,\n",
    "    max_tokens=300,\n",
    "    model=COMPLETIONS_MODEL\n",
    ")[\"choices\"][0][\"text\"].strip(\" \\n\")"
   ]
  },
  {
   "cell_type": "code",
   "execution_count": 16,
   "metadata": {},
   "outputs": [],
   "source": [
    "def get_embedding(text, model=EMBEDDING_MODEL):\n",
    "    result = openai.Embedding.create(\n",
    "      model=model,\n",
    "      input=text\n",
    "    )\n",
    "    return result[\"data\"][0][\"embedding\"]\n",
    "\n",
    "def compute_doc_embeddings(df):\n",
    "    \"\"\"\n",
    "    Create an embedding for each row in the dataframe using the OpenAI Embeddings API.\n",
    "    \n",
    "    Return a dictionary that maps between each embedding vector and the index of the row that it corresponds to.\n",
    "    \"\"\"\n",
    "    return {\n",
    "        idx: get_embedding(r.answers) for idx, r in df.iterrows()\n",
    "    }\n",
    "\n",
    "def load_embeddings(fname):\n",
    "    \"\"\"\n",
    "    Read the document embeddings and their keys from a CSV.\n",
    "    \n",
    "    fname is the path to a CSV with exactly these named columns: \n",
    "        \"title\", \"heading\", \"0\", \"1\", ... up to the length of the embedding vectors.\n",
    "    \"\"\"\n",
    "    \n",
    "    df = pd.read_csv(fname, header=0)\n",
    "    max_dim = max([int(c) for c in df.columns if c != \"title\" and c != \"heading\"])\n",
    "    return {\n",
    "           (r.title, r.heading): [r[str(i)] for i in range(max_dim + 1)] for _, r in df.iterrows()\n",
    "    }"
   ]
  },
  {
   "cell_type": "code",
   "execution_count": 17,
   "metadata": {},
   "outputs": [
    {
     "data": {
      "text/plain": [
       "619"
      ]
     },
     "execution_count": 17,
     "metadata": {},
     "output_type": "execute_result"
    }
   ],
   "source": [
    "len(df)"
   ]
  },
  {
   "cell_type": "code",
   "execution_count": 19,
   "metadata": {},
   "outputs": [],
   "source": [
    "document_embeddings = {}\n",
    "for i in range(0, len(df), 60):\n",
    "    document_embeddings.update(compute_doc_embeddings(df[i:i+60]))\n",
    "    time.sleep(60)"
   ]
  },
  {
   "cell_type": "code",
   "execution_count": 20,
   "metadata": {},
   "outputs": [],
   "source": [
    "def vector_similarity(x, y):\n",
    "    \"\"\"\n",
    "    Returns the similarity between two vectors.\n",
    "    \n",
    "    Because OpenAI Embeddings are normalized to length 1, the cosine similarity is the same as the dot product.\n",
    "    \"\"\"\n",
    "    return np.dot(np.array(x), np.array(y))\n",
    "\n",
    "def order_document_sections_by_query_similarity(query, contexts):\n",
    "    \"\"\"\n",
    "    Find the query embedding for the supplied query, and compare it against all of the pre-calculated document embeddings\n",
    "    to find the most relevant sections. \n",
    "    \n",
    "    Return the list of document sections, sorted by relevance in descending order.\n",
    "    \"\"\"\n",
    "    query_embedding = get_embedding(query)\n",
    "    \n",
    "    document_similarities = sorted([\n",
    "        (vector_similarity(query_embedding, doc_embedding), doc_index) for doc_index, doc_embedding in contexts.items()\n",
    "    ], reverse=True)\n",
    "    \n",
    "    return document_similarities"
   ]
  },
  {
   "cell_type": "code",
   "execution_count": 21,
   "metadata": {},
   "outputs": [
    {
     "data": {
      "text/plain": [
       "[(0.8796071759945809, 'CAN I SMOKE OR CHEW GUM WITH ALIGNERS? chapter 3'),\n",
       " (0.8723919126324219, 'CAN I SMOKE OR CHEW GUM WITH ALIGNERS? chapter 4'),\n",
       " (0.868992824788829, 'CAN I SMOKE OR CHEW GUM WITH ALIGNERS? chapter 9'),\n",
       " (0.8684869783296606, 'CAN I SMOKE OR CHEW GUM WITH ALIGNERS? chapter 10'),\n",
       " (0.8664195103806468, 'CAN I SMOKE OR CHEW GUM WITH ALIGNERS? chapter 5')]"
      ]
     },
     "execution_count": 21,
     "metadata": {},
     "output_type": "execute_result"
    }
   ],
   "source": [
    "order_document_sections_by_query_similarity(\"can I smoke with aligner?\", document_embeddings)[:5]"
   ]
  },
  {
   "cell_type": "code",
   "execution_count": 22,
   "metadata": {},
   "outputs": [
    {
     "data": {
      "text/plain": [
       "'Context separator contains 3 tokens'"
      ]
     },
     "execution_count": 22,
     "metadata": {},
     "output_type": "execute_result"
    }
   ],
   "source": [
    "MAX_SECTION_LEN = 4000\n",
    "SEPARATOR = \"\\n* \"\n",
    "ENCODING = \"gpt2\"  # encoding for text-davinci-003\n",
    "\n",
    "encoding = tiktoken.get_encoding(ENCODING)\n",
    "separator_len = len(encoding.encode(SEPARATOR))\n",
    "\n",
    "f\"Context separator contains {separator_len} tokens\""
   ]
  },
  {
   "cell_type": "code",
   "execution_count": 23,
   "metadata": {},
   "outputs": [],
   "source": [
    "def construct_prompt(question: str, context_embeddings: dict, df: pd.DataFrame) -> str:\n",
    "    \"\"\"\n",
    "    Fetch relevant \n",
    "    \"\"\"\n",
    "    most_relevant_document_sections = order_document_sections_by_query_similarity(question, context_embeddings)\n",
    "    \n",
    "    chosen_sections = []\n",
    "    chosen_sections_len = 0\n",
    "    chosen_sections_indexes = []\n",
    "     \n",
    "    for _, section_index in most_relevant_document_sections:\n",
    "        # Add contexts until we run out of space.        \n",
    "        document_section = df.loc[section_index]\n",
    "        \n",
    "        chosen_sections_len += len(document_section.answers) + separator_len\n",
    "        if chosen_sections_len > MAX_SECTION_LEN:\n",
    "            break\n",
    "            \n",
    "        chosen_sections.append(SEPARATOR + document_section.answers.replace(\"\\n\", \" \"))\n",
    "        chosen_sections_indexes.append(str(section_index))\n",
    "            \n",
    "    # Useful diagnostic information\n",
    "    print(f\"Selected {len(chosen_sections)} document sections:\")\n",
    "    print(\"\\n\".join(chosen_sections_indexes))\n",
    "    \n",
    "    header = \"\"\"Answer the question as truthfully as possible using the provided context, and if the answer is not contained within the text below, say \"I don't know.\"\\n\\nContext:\\n\"\"\"\n",
    "    \n",
    "    return header + \"\".join(chosen_sections) + \"\\n\\n Q: \" + question + \"\\n A:\""
   ]
  },
  {
   "cell_type": "code",
   "execution_count": 24,
   "metadata": {},
   "outputs": [
    {
     "name": "stdout",
     "output_type": "stream",
     "text": [
      "Selected 8 document sections:\n",
      "CAN I SMOKE OR CHEW GUM WITH ALIGNERS? chapter 3\n",
      "CAN I SMOKE OR CHEW GUM WITH ALIGNERS? chapter 4\n",
      "CAN I SMOKE OR CHEW GUM WITH ALIGNERS? chapter 9\n",
      "CAN I SMOKE OR CHEW GUM WITH ALIGNERS? chapter 10\n",
      "CAN I SMOKE OR CHEW GUM WITH ALIGNERS? chapter 5\n",
      "CAN I SMOKE OR CHEW GUM WITH ALIGNERS? chapter 1\n",
      "CAN I SMOKE OR CHEW GUM WITH ALIGNERS? chapter 2\n",
      "CAN I SMOKE OR CHEW GUM WITH ALIGNERS? chapter 8\n",
      "===\n",
      " Answer the question as truthfully as possible using the provided context, and if the answer is not contained within the text below, say \"I don't know.\"\n",
      "\n",
      "Context:\n",
      "\n",
      "* We never recommend smoking, either with or without aligners. If you're a smoker, you already know the causes and the potential harm of smoking. That said, you can smoke with the aligners in place. You may get some tobacco deposit on the aligners but again, you're changing them after 2 weeks. So not a big deal. Chewing gum, on the other hand, you'll learn right away as well. Chewing gum will stick to your aligners and it is pretty hard to get them off. It is not worth it. It can be pretty embarrassing to have to call the dental office and ask for a replacement because you chewed gum and now, you can’t get it off. With the time and fees involved, you'll learn quickly not to chew gum with the aligners in your mouth.\n",
      "* You should not be smoking, period. Smoking is not good for you, and it will also stain the plastic of the aligners. About chewing gum, you may end up breaking your aligners. On the other hand, some cases require you to chew on a chewee to help the fitting of your aligners. That will be for your dentist to prescribe if needed. Everything in moderation is good. Don't do something which will take you away from what you're trying to achieve.\n",
      "* No, you should not smoke, period. You should not smoke or chew gum with your aligner on. Smoking is bad for the health and it will also darken your clear aligners very quickly. Well, chewing gum, you could potentially damage your aligners.\n",
      "* In general, I would say to avoid smoking because smoking has been linked to gingivitis and other periodontal problems. Sometimes it is challenging for some patients to keep good oral hygiene while wearing aligners, and the accumulation of plaque will eventually lead to gingivitis. If you combine the two added risks, you are at a higher risk of developing gum disease. I would not recommend smoking, period. In regards to chewing gum, I do not think one is able to chew gum while wearing aligners. You can try, but you will have no satisfaction out of it. Just try and you will see.\n",
      "* No. I always say that one great reason for you have aligners therapy is that it is a very good way for you to stop smoking. Having to remove your aligners each time, you will start reducing the number of times your will smoke gradually. That said, if you smoke, you shouldn't wear the aligners while smoking because you will stain them pretty quickly and they won’t be clear and invisible anymore.\n",
      "* Let's start with the easy one, chewing gums. Yes, you can but you won't have any satisfaction out of it. First of all, it has to be sugar-free gums to not cause decay. Then, chewing on aligners is a weird feeling and the gum will stick to the plastic itself. You will quickly come to your own conclusion on that matter. Now, about smoking, within 17 years plus of experience, I had people smoking with their aligners in. What I can tell you is that their aligners did not stay invisible for long. They turn brownish pretty quickly. Smoking is bad, that you know. Well, I cannot promise this, but I had patients who quit smoking after seeing how quickly the nicotine-stained their aligners. Again, this is a side effect and is not even part of the treatment. I just like to share the story about stains and the life-changing effect on a few individuals.\n",
      "* Smoking will stain aligners and chewing gum sticks to aligners, neither recommended.\n",
      "* Smoking, it's the same with the coffee or tea, it will turn the clear aligner yellowish, even brownish. That will go against the invisible treatment goal. About chewing gum, sugarless gum, some of my colleagues will say that chewing gum will help the treatment since you are forcing the teeth inside of the aligners. Personally, I am not advising my patients to chew gums with their aligners.\n",
      "\n",
      " Q: can I smoke with aligner?\n",
      " A:\n"
     ]
    }
   ],
   "source": [
    "prompt = construct_prompt(\n",
    "    \"can I smoke with aligner?\",\n",
    "    document_embeddings,\n",
    "    df\n",
    ")\n",
    "\n",
    "print(\"===\\n\", prompt)"
   ]
  },
  {
   "cell_type": "code",
   "execution_count": 25,
   "metadata": {},
   "outputs": [],
   "source": [
    "COMPLETIONS_API_PARAMS = {\n",
    "    # We use temperature of 0.0 because it gives the most predictable, factual answer.\n",
    "    \"temperature\": 0.0,\n",
    "    \"max_tokens\": 500,\n",
    "    \"model\": COMPLETIONS_MODEL,\n",
    "}"
   ]
  },
  {
   "cell_type": "code",
   "execution_count": 26,
   "metadata": {},
   "outputs": [],
   "source": [
    "def answer_query_with_context(\n",
    "    query: str,\n",
    "    df: pd.DataFrame,\n",
    "    document_embeddings,\n",
    "    show_prompt: bool = False\n",
    ") -> str:\n",
    "    prompt = construct_prompt(\n",
    "        query,\n",
    "        document_embeddings,\n",
    "        df\n",
    "    )\n",
    "    \n",
    "    if show_prompt:\n",
    "        print(prompt)\n",
    "\n",
    "    response = openai.Completion.create(\n",
    "                prompt=prompt,\n",
    "                **COMPLETIONS_API_PARAMS\n",
    "            )\n",
    "\n",
    "    return response[\"choices\"][0][\"text\"].strip(\" \\n\")"
   ]
  },
  {
   "cell_type": "code",
   "execution_count": 27,
   "metadata": {},
   "outputs": [
    {
     "name": "stdout",
     "output_type": "stream",
     "text": [
      "Selected 8 document sections:\n",
      "ALIGNERS, WHAT ARE THOSE? chapter 4\n",
      "ALIGNERS, WHAT ARE THOSE? chapter 9\n",
      "ALIGNERS, WHAT ARE THOSE? chapter 2\n",
      "ALIGNERS, WHAT ARE THOSE? chapter 6\n",
      "ALIGNERS, WHAT ARE THOSE? chapter 3\n",
      "HOW DOES IT WORK? HOW DOES IT STRAIGHTEN MY TEETH? chapter 4\n",
      "WHAT ARE THE ALIGNERS MADE OF? WHAT IS THE MATERIAL? DOES IT CONTAIN BPA? chapter 7\n",
      "ALIGNERS, WHAT ARE THOSE? chapter 10\n"
     ]
    },
    {
     "data": {
      "text/plain": [
       "\"A dental aligner is a plastic tray that fits over the teeth and is designed to apply pressure to move them orthodontically. It is made from an impression of someone's mouth and is custom fit to the patient. It is made from a clear matrix plastic polymer and is used to help align the teeth through minor controlled movements.\""
      ]
     },
     "execution_count": 27,
     "metadata": {},
     "output_type": "execute_result"
    }
   ],
   "source": [
    "answer_query_with_context(\"What is a dental aligner?\", df, document_embeddings)"
   ]
  },
  {
   "cell_type": "code",
   "execution_count": 28,
   "metadata": {},
   "outputs": [
    {
     "name": "stdout",
     "output_type": "stream",
     "text": [
      "Selected 7 document sections:\n",
      "DO I NEED TO CHANGE WHAT I EAT TO SUPPORT MY ALIGNERS IN TREATMENT? chapter 4\n",
      "CAN I EAT OR DRINK WITH MY ALIGNERS? chapter 6\n",
      "DO I NEED TO CHANGE WHAT I EAT TO SUPPORT MY ALIGNERS IN TREATMENT? chapter 8\n",
      "CAN I EAT OR DRINK WITH MY ALIGNERS? chapter 10\n",
      "IF I HAVE FOOD RESIDUES LIKE BLUEBERRIES OR PASTA SAUCE IN MY MOUTH, WILL THAT STAIN MY ALIGNERS WHEN I PUT THEM BACK? chapter 8\n",
      "IF I HAVE FOOD RESIDUES LIKE BLUEBERRIES OR PASTA SAUCE IN MY MOUTH, WILL THAT STAIN MY ALIGNERS WHEN I PUT THEM BACK? chapter 5\n",
      "IS IT SAFE? chapter 5\n"
     ]
    },
    {
     "data": {
      "text/plain": [
       "'No, I do not recommend eating with invisalign.'"
      ]
     },
     "execution_count": 28,
     "metadata": {},
     "output_type": "execute_result"
    }
   ],
   "source": [
    "answer_query_with_context(\"Can I eat with invisalign?\", df, document_embeddings)"
   ]
  },
  {
   "cell_type": "code",
   "execution_count": 29,
   "metadata": {},
   "outputs": [
    {
     "name": "stdout",
     "output_type": "stream",
     "text": [
      "Selected 8 document sections:\n",
      "CAN I SMOKE OR CHEW GUM WITH ALIGNERS? chapter 3\n",
      "CAN I SMOKE OR CHEW GUM WITH ALIGNERS? chapter 4\n",
      "CAN I SMOKE OR CHEW GUM WITH ALIGNERS? chapter 9\n",
      "CAN I SMOKE OR CHEW GUM WITH ALIGNERS? chapter 10\n",
      "CAN I SMOKE OR CHEW GUM WITH ALIGNERS? chapter 5\n",
      "CAN I SMOKE OR CHEW GUM WITH ALIGNERS? chapter 1\n",
      "CAN I SMOKE OR CHEW GUM WITH ALIGNERS? chapter 2\n",
      "CAN I SMOKE OR CHEW GUM WITH ALIGNERS? chapter 8\n"
     ]
    },
    {
     "data": {
      "text/plain": [
       "'No, you should not smoke with aligner.'"
      ]
     },
     "execution_count": 29,
     "metadata": {},
     "output_type": "execute_result"
    }
   ],
   "source": [
    "answer_query_with_context(\"can I smoke with aligner?\", df, document_embeddings)"
   ]
  },
  {
   "cell_type": "code",
   "execution_count": 31,
   "metadata": {},
   "outputs": [
    {
     "name": "stdout",
     "output_type": "stream",
     "text": [
      "Selected 8 document sections:\n",
      "CAN I SMOKE OR CHEW GUM WITH ALIGNERS? chapter 3\n",
      "CAN I SMOKE OR CHEW GUM WITH ALIGNERS? chapter 4\n",
      "CAN I SMOKE OR CHEW GUM WITH ALIGNERS? chapter 1\n",
      "CAN I SMOKE OR CHEW GUM WITH ALIGNERS? chapter 10\n",
      "CAN I SMOKE OR CHEW GUM WITH ALIGNERS? chapter 9\n",
      "CAN I SMOKE OR CHEW GUM WITH ALIGNERS? chapter 5\n",
      "CAN I SMOKE OR CHEW GUM WITH ALIGNERS? chapter 2\n",
      "CAN I SMOKE OR CHEW GUM WITH ALIGNERS? chapter 8\n"
     ]
    },
    {
     "data": {
      "text/plain": [
       "'Smoking will stain aligners and it will turn the clear aligner yellowish, even brownish. This will go against the invisible treatment goal. Additionally, smoking is bad for your health and can lead to gingivitis and other periodontal problems.'"
      ]
     },
     "execution_count": 31,
     "metadata": {},
     "output_type": "execute_result"
    }
   ],
   "source": [
    "answer_query_with_context(\"What happens if I smoke with aligners? Please go in details\", df, document_embeddings)"
   ]
  },
  {
   "cell_type": "code",
   "execution_count": 34,
   "metadata": {},
   "outputs": [
    {
     "name": "stdout",
     "output_type": "stream",
     "text": [
      "Selected 5 document sections:\n",
      "ARE THERE ANY MONTHLY PAYMENT PLANS AND FINANCING PLANS AVAILABLE? chapter 6\n",
      "WHAT IS THE COST? HOW MUCH IS THE PRICE? chapter 1\n",
      "DO YOU ACCEPT INSURANCE PLANS? chapter 8\n",
      "WHAT IS THE COST? HOW MUCH IS THE PRICE? chapter 7\n",
      "WHAT IS THE COST? HOW MUCH IS THE PRICE? chapter 9\n"
     ]
    },
    {
     "data": {
      "text/plain": [
       "\"I don't know.\""
      ]
     },
     "execution_count": 34,
     "metadata": {},
     "output_type": "execute_result"
    }
   ],
   "source": [
    "answer_query_with_context(\"How much does aligners cost in Canada if I have private insurance?\", df, document_embeddings)"
   ]
  },
  {
   "cell_type": "code",
   "execution_count": 35,
   "metadata": {},
   "outputs": [
    {
     "name": "stdout",
     "output_type": "stream",
     "text": [
      "Selected 5 document sections:\n",
      "WHAT IS THE COST? HOW MUCH IS THE PRICE? chapter 1\n",
      "ARE THERE ANY MONTHLY PAYMENT PLANS AND FINANCING PLANS AVAILABLE? chapter 6\n",
      "WHAT IS THE COST? HOW MUCH IS THE PRICE? chapter 7\n",
      "DO YOU ACCEPT INSURANCE PLANS? chapter 8\n",
      "WHAT WILL HAPPEN IF I LOSE OR BREAK MY TRAY? DO YOU OFFER A REPLACEMENT? chapter 2\n"
     ]
    },
    {
     "data": {
      "text/plain": [
       "\"I don't know.\""
      ]
     },
     "execution_count": 35,
     "metadata": {},
     "output_type": "execute_result"
    }
   ],
   "source": [
    "answer_query_with_context(\"Can I afford aligners if I make 30k per year in Canada?\", df, document_embeddings)"
   ]
  },
  {
   "cell_type": "code",
   "execution_count": 36,
   "metadata": {},
   "outputs": [
    {
     "name": "stdout",
     "output_type": "stream",
     "text": [
      "Selected 4 document sections:\n",
      "WHAT IS THE COST? HOW MUCH IS THE PRICE? chapter 8\n",
      "WHAT IS THE COST? HOW MUCH IS THE PRICE? chapter 1\n",
      "WHAT IS THE COST? HOW MUCH IS THE PRICE? chapter 5\n",
      "WHAT IS THE COST? HOW MUCH IS THE PRICE? chapter 10\n"
     ]
    },
    {
     "data": {
      "text/plain": [
       "'Je ne sais pas.'"
      ]
     },
     "execution_count": 36,
     "metadata": {},
     "output_type": "execute_result"
    }
   ],
   "source": [
    "answer_query_with_context(\"Combien coûte des broches?\", df, document_embeddings)"
   ]
  },
  {
   "cell_type": "code",
   "execution_count": 37,
   "metadata": {},
   "outputs": [
    {
     "name": "stdout",
     "output_type": "stream",
     "text": [
      "Selected 3 document sections:\n",
      "WHAT IS THE COST? HOW MUCH IS THE PRICE? chapter 1\n",
      "WHAT IS THE COST? HOW MUCH IS THE PRICE? chapter 2\n",
      "WHAT IS THE COST? HOW MUCH IS THE PRICE? chapter 6\n"
     ]
    },
    {
     "data": {
      "text/plain": [
       "'En 2022, le traitement orthodontique avec des aligneurs variera de 3500 à 8500 dollars canadiens.'"
      ]
     },
     "execution_count": 37,
     "metadata": {},
     "output_type": "execute_result"
    }
   ],
   "source": [
    "answer_query_with_context(\"Combien me coûtera invisalign au Québec?\", df, document_embeddings)"
   ]
  },
  {
   "cell_type": "code",
   "execution_count": 38,
   "metadata": {},
   "outputs": [
    {
     "name": "stdout",
     "output_type": "stream",
     "text": [
      "Selected 8 document sections:\n",
      "WHAT WILL HAPPEN IF I LOSE OR BREAK MY TRAY? DO YOU OFFER A REPLACEMENT? chapter 2\n",
      "IS THE ALIGNER CHEAPER OR MORE EXPENSIVE THAN BRACES? chapter 7\n",
      "HOW DO I  KNOW IF I  QUALIFY FOR ALIGNERS? chapter 4\n",
      "ALIGNERS, WHAT ARE THOSE? chapter 7\n",
      "HOW OLD ARE THE COMPANY AND ITS TECHNOLOGY? chapter 4\n",
      "WHAT WILL HAPPEN IF I LOSE OR BREAK MY TRAY? DO YOU OFFER A REPLACEMENT? chapter 4\n",
      "CAN THE ALIGNERS BE PRINTED IN-HOUSE? chapter 8\n",
      "WHAT IS THE COST? HOW MUCH IS THE PRICE? chapter 10\n"
     ]
    },
    {
     "data": {
      "text/plain": [
       "\"Vous pouvez essayer d'imprimer vos propres aligneurs en utilisant un scanner iTero et le logiciel Onyxceph. C'est une option plus abordable pour le patient, mais cela nécessite plus de travail. Vous devrez concevoir le cas, imprimer les aligneurs et vérifier tout. Dans d'autres pays, les coûts peuvent varier entre 4 000 et 6 000 euros pour le traitement.\""
      ]
     },
     "execution_count": 38,
     "metadata": {},
     "output_type": "execute_result"
    }
   ],
   "source": [
    "answer_query_with_context(\"Commnent est-ce que je peux me procurer les aligneurs les plus abordables?\", df, document_embeddings)"
   ]
  },
  {
   "cell_type": "markdown",
   "metadata": {},
   "source": []
  },
  {
   "cell_type": "code",
   "execution_count": 45,
   "metadata": {},
   "outputs": [
    {
     "name": "stdout",
     "output_type": "stream",
     "text": [
      "Selected 4 document sections:\n",
      "WHAT IS THE COST? HOW MUCH IS THE PRICE? chapter 10\n",
      "CAN THE ALIGNERS BE PRINTED IN-HOUSE? chapter 8\n",
      "WHAT IS THE COST? HOW MUCH IS THE PRICE? chapter 5\n",
      "WHAT IS THE COST? HOW MUCH IS THE PRICE? chapter 9\n"
     ]
    },
    {
     "data": {
      "text/plain": [
       "\"I don't know.\""
      ]
     },
     "execution_count": 45,
     "metadata": {},
     "output_type": "execute_result"
    }
   ],
   "source": [
    "answer_query_with_context(\"Combien me coûtera mes aligneurs si je les imprime moi-même en moyenne?\", df, document_embeddings)"
   ]
  },
  {
   "cell_type": "code",
   "execution_count": 44,
   "metadata": {},
   "outputs": [
    {
     "name": "stdout",
     "output_type": "stream",
     "text": [
      "Selected 6 document sections:\n",
      "DO ALIGNERS RESULTS LAST PERMANENTLY OR HOW OFTEN DO IT WILL IT HAVE TO BE REDONE? chapter 7\n",
      "WHAT IS THE NEXT STEP AFTER I'VE FINISHED MY TREATMENT? chapter 7\n",
      "WHAT IF I GIVE UP AND NEVER FINISH THE TREATMENT? chapter 5\n",
      "HOW LONG WILL I HAVE TO WEAR MY VIVERA RETAINERS? chapter 7\n",
      "WHAT IS THE NEXT STEP AFTER I'VE FINISHED MY TREATMENT? chapter 10\n",
      "WHAT IS THE NEXT STEP AFTER I'VE FINISHED MY TREATMENT? chapter 3\n"
     ]
    },
    {
     "data": {
      "text/plain": [
       "'Yes, retention is necessary. After you have finished your treatment and the attachments have been removed, the next step will be maintaining your teeth aligned, and this maintenance is what is known as retention. Your teeth have memory, which means that they would want to go back to where they used to be prior to the start of the treatment, this is called relapse. Since we would not want your teeth to relapse, you have two choices, either wear removable retainers every night for at least eight hours or have fixed retainers placed behind your front teeth. Retention is mandatory and will have to be maintained for life in order to keep the alignment in the long term.'"
      ]
     },
     "execution_count": 44,
     "metadata": {},
     "output_type": "execute_result"
    }
   ],
   "source": [
    "answer_query_with_context(\"Is retention necessary? Please go in details\", df, document_embeddings)"
   ]
  },
  {
   "cell_type": "code",
   "execution_count": 47,
   "metadata": {},
   "outputs": [
    {
     "name": "stdout",
     "output_type": "stream",
     "text": [
      "Selected 22 document sections:\n",
      "IS IT FDA APPROVED? chapter 9\n",
      "IS IT FDA APPROVED? chapter 10\n",
      "IS IT FDA APPROVED? chapter 5\n",
      "HOW MANY PEOPLE HAVE USED IT BEFORE ME? chapter 9\n",
      "CAN I HAVE ALIGNERS WITHOUT USING ELASTICS? chapter 8\n",
      "HOW MANY PEOPLE HAVE USED IT BEFORE ME? chapter 3\n",
      "HOW OLD ARE THE COMPANY AND ITS TECHNOLOGY? chapter 8\n",
      "CAN WE DO AN ORTHODONTIC TREATMENT USING ALIGNERS WITHOUT THE USE OF ATTACHMENTS? chapter 5\n",
      "HOW MANY PEOPLE HAVE USED IT BEFORE ME? chapter 7\n",
      "CAN WE DO AN ORTHODONTIC TREATMENT USING ALIGNERS WITHOUT THE USE OF ATTACHMENTS? chapter 9\n",
      "IS IT FDA APPROVED? chapter 7\n",
      "HOW LONG WILL I HAVE TO WEAR MY VIVERA RETAINERS? chapter 9\n",
      "HOW OLD ARE THE COMPANY AND ITS TECHNOLOGY? chapter 6\n",
      "WHO CAN HAVE ALIGNERS? HOW DO YOU KNOW IF YOU'RE THE RIGHT CANDIDATE? chapter 4\n",
      "DO I HAVE A WARRANTY OR WHAT IS THE REFUND POLICY? chapter 4\n",
      "HOW MANY PEOPLE HAVE USED IT BEFORE ME? chapter 6\n",
      "HOW MANY PEOPLE HAVE USED IT BEFORE ME? chapter 1\n",
      "HOW LONG WILL I HAVE TO WEAR MY VIVERA RETAINERS? chapter 10\n",
      "CAN THE ALIGNERS SLIP OFF WHILE I’M ASLEEP? chapter 8\n",
      "IF YOUR CASE NEEDED ATTACHMENTS, WILL IT TAKE LONGER WITHOUT ATTACHMENTS? chapter 2\n",
      "HOW MANY PEOPLE HAVE USED IT BEFORE ME? chapter 2\n",
      "HOW MANY PEOPLE HAVE USED IT BEFORE ME? chapter 8\n"
     ]
    },
    {
     "data": {
      "text/plain": [
       "\"I don't know.\""
      ]
     },
     "execution_count": 47,
     "metadata": {},
     "output_type": "execute_result"
    }
   ],
   "source": [
    "answer_query_with_context(\"Who won the olympics 100m sprint in 1983\", df, document_embeddings)"
   ]
  },
  {
   "cell_type": "code",
   "execution_count": 48,
   "metadata": {},
   "outputs": [
    {
     "name": "stdout",
     "output_type": "stream",
     "text": [
      "Selected 12 document sections:\n",
      "HOW OFTEN WILL I HAVE APPOINTMENTS WITH MY DOCTOR? chapter 6\n",
      "IS IT FDA APPROVED? chapter 5\n",
      "IS IT FDA APPROVED? chapter 10\n",
      "IS IT FDA APPROVED? chapter 9\n",
      "DO I HAVE A WARRANTY OR WHAT IS THE REFUND POLICY? chapter 5\n",
      "ARE THERE ANY MONTHLY PAYMENT PLANS AND FINANCING PLANS AVAILABLE? chapter 8\n",
      "WHAT SHOULD I EXPECT DURING MY CONSULTATION? chapter 6\n",
      "WHAT SHOULD I EXPECT DURING MY CONSULTATION? chapter 8\n",
      "WHAT WILL HAPPEN IF I LOSE OR BREAK MY TRAY? DO YOU OFFER A REPLACEMENT? chapter 5\n",
      "WHO CAN HAVE ALIGNERS? HOW DO YOU KNOW IF YOU'RE THE RIGHT CANDIDATE? chapter 4\n",
      "HOW DO I  KNOW IF I  QUALIFY FOR ALIGNERS? chapter 4\n",
      "WHAT IF I MOVE TO ANOTHER CITY OR EVEN ANOTHER COUNTRY? chapter 5\n"
     ]
    },
    {
     "data": {
      "text/plain": [
       "\"I don't know.\""
      ]
     },
     "execution_count": 48,
     "metadata": {},
     "output_type": "execute_result"
    }
   ],
   "source": [
    "answer_query_with_context(\"Can you take an appointment for me?\", df, document_embeddings)"
   ]
  }
 ],
 "metadata": {
  "kernelspec": {
   "display_name": "openai_api",
   "language": "python",
   "name": "python3"
  },
  "language_info": {
   "codemirror_mode": {
    "name": "ipython",
    "version": 3
   },
   "file_extension": ".py",
   "mimetype": "text/x-python",
   "name": "python",
   "nbconvert_exporter": "python",
   "pygments_lexer": "ipython3",
   "version": "3.9.6"
  },
  "orig_nbformat": 4
 },
 "nbformat": 4,
 "nbformat_minor": 2
}
